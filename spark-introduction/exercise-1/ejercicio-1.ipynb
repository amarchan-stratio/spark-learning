{
 "cells": [
  {
   "cell_type": "markdown",
   "id": "b0690d2b",
   "metadata": {},
   "source": [
    "# Exercise 1"
   ]
  },
  {
   "cell_type": "markdown",
   "id": "6bac4ffb",
   "metadata": {},
   "source": [
    "## Create Spark session"
   ]
  },
  {
   "cell_type": "code",
   "execution_count": 1,
   "id": "a07de0e4",
   "metadata": {},
   "outputs": [],
   "source": [
    "from pyspark.sql import SparkSession"
   ]
  },
  {
   "cell_type": "code",
   "execution_count": 2,
   "id": "6ce9e5cc",
   "metadata": {},
   "outputs": [],
   "source": [
    "spark = SparkSession.builder.getOrCreate()"
   ]
  },
  {
   "cell_type": "code",
   "execution_count": 3,
   "id": "427e93fd",
   "metadata": {},
   "outputs": [
    {
     "data": {
      "text/html": [
       "\n",
       "            <div>\n",
       "                <p><b>SparkSession - in-memory</b></p>\n",
       "                \n",
       "        <div>\n",
       "            <p><b>SparkContext</b></p>\n",
       "\n",
       "            <p><a href=\"http://192.168.68.122:4040\">Spark UI</a></p>\n",
       "\n",
       "            <dl>\n",
       "              <dt>Version</dt>\n",
       "                <dd><code>v2.4.5</code></dd>\n",
       "              <dt>Master</dt>\n",
       "                <dd><code>local[*]</code></dd>\n",
       "              <dt>AppName</dt>\n",
       "                <dd><code>pyspark-shell</code></dd>\n",
       "            </dl>\n",
       "        </div>\n",
       "        \n",
       "            </div>\n",
       "        "
      ],
      "text/plain": [
       "<pyspark.sql.session.SparkSession at 0x7fbb205636a0>"
      ]
     },
     "execution_count": 3,
     "metadata": {},
     "output_type": "execute_result"
    }
   ],
   "source": [
    "spark"
   ]
  },
  {
   "cell_type": "markdown",
   "id": "714b2b3c",
   "metadata": {},
   "source": [
    "## 1. Read the logs file"
   ]
  },
  {
   "cell_type": "code",
   "execution_count": 4,
   "id": "41faf9aa",
   "metadata": {},
   "outputs": [],
   "source": [
    "logs = spark.sparkContext.textFile('logs.txt')"
   ]
  },
  {
   "cell_type": "markdown",
   "id": "d74bc28d",
   "metadata": {},
   "source": [
    "## 2. Obtain and print: total number of lines, chars and first few lines."
   ]
  },
  {
   "cell_type": "markdown",
   "id": "04b5cb3a",
   "metadata": {},
   "source": [
    "### Total number of lines"
   ]
  },
  {
   "cell_type": "code",
   "execution_count": 5,
   "id": "f8e4f53e",
   "metadata": {},
   "outputs": [
    {
     "name": "stdout",
     "output_type": "stream",
     "text": [
      "The file has 731905 lines.\n"
     ]
    }
   ],
   "source": [
    "print(f'The file has { logs.count() } lines.')"
   ]
  },
  {
   "cell_type": "markdown",
   "id": "6c03d5e4",
   "metadata": {},
   "source": [
    "### Total number of chars"
   ]
  },
  {
   "cell_type": "code",
   "execution_count": 6,
   "id": "c3acc95c",
   "metadata": {
    "scrolled": true
   },
   "outputs": [
    {
     "name": "stdout",
     "output_type": "stream",
     "text": [
      "The file has 31210897 characters.\n"
     ]
    }
   ],
   "source": [
    "print(f'The file has { logs.flatMap(lambda x: list(x)).count() } characters.')"
   ]
  },
  {
   "cell_type": "markdown",
   "id": "31b818d9",
   "metadata": {},
   "source": [
    "### Show first few lines"
   ]
  },
  {
   "cell_type": "code",
   "execution_count": 7,
   "id": "8201e5ee",
   "metadata": {},
   "outputs": [
    {
     "data": {
      "text/plain": [
       "['2015-12-10T13:36:47|86.88.135.133|FR|SUCCESS',\n",
       " '2015-12-10T13:36:47|25.53.251.132|FR|SUCCESS',\n",
       " '2015-12-10T13:36:47|224.251.26.196|FR|SUCCESS',\n",
       " '2015-12-10T13:36:47|72.96.92.96|FR|SUCCESS',\n",
       " '2015-12-10T13:36:47|93.159.208.231|FR|SUCCESS',\n",
       " '2015-12-10T13:36:47|200.85.209.180|FR|SUCCESS',\n",
       " '2015-12-10T13:36:47|117.35.65.164|FR|SUCCESS',\n",
       " '2015-12-10T13:36:47|164.86.143.136|FR|SUCCESS',\n",
       " '2015-12-10T13:36:47|56.160.244.16|FR|SUCCESS',\n",
       " '2015-12-10T13:36:47|205.111.122.245|FR|SUCCESS']"
      ]
     },
     "execution_count": 7,
     "metadata": {},
     "output_type": "execute_result"
    }
   ],
   "source": [
    "logs.take(10)"
   ]
  },
  {
   "cell_type": "markdown",
   "id": "9543eac8",
   "metadata": {},
   "source": [
    "## 3. Separate the line into a tuple."
   ]
  },
  {
   "cell_type": "code",
   "execution_count": 8,
   "id": "9ebfb6c6",
   "metadata": {},
   "outputs": [
    {
     "data": {
      "text/plain": [
       "[('2015-12-10T13:36:47', '86.88.135.133', 'FR', 'SUCCESS'),\n",
       " ('2015-12-10T13:36:47', '25.53.251.132', 'FR', 'SUCCESS'),\n",
       " ('2015-12-10T13:36:47', '224.251.26.196', 'FR', 'SUCCESS'),\n",
       " ('2015-12-10T13:36:47', '72.96.92.96', 'FR', 'SUCCESS'),\n",
       " ('2015-12-10T13:36:47', '93.159.208.231', 'FR', 'SUCCESS'),\n",
       " ('2015-12-10T13:36:47', '200.85.209.180', 'FR', 'SUCCESS'),\n",
       " ('2015-12-10T13:36:47', '117.35.65.164', 'FR', 'SUCCESS'),\n",
       " ('2015-12-10T13:36:47', '164.86.143.136', 'FR', 'SUCCESS'),\n",
       " ('2015-12-10T13:36:47', '56.160.244.16', 'FR', 'SUCCESS'),\n",
       " ('2015-12-10T13:36:47', '205.111.122.245', 'FR', 'SUCCESS')]"
      ]
     },
     "execution_count": 8,
     "metadata": {},
     "output_type": "execute_result"
    }
   ],
   "source": [
    "tuple_logs = logs.map(lambda x: tuple(x.split('|')))\n",
    "tuple_logs.take(10)"
   ]
  },
  {
   "cell_type": "markdown",
   "id": "e5dc809a",
   "metadata": {},
   "source": [
    "## 4. Calculate the number of logs per country. Show top 3."
   ]
  },
  {
   "cell_type": "code",
   "execution_count": 9,
   "id": "8a8b4c49",
   "metadata": {
    "scrolled": true
   },
   "outputs": [
    {
     "data": {
      "text/plain": [
       "[(126163, 'US'), (112430, 'CN'), (99457, 'IN')]"
      ]
     },
     "execution_count": 9,
     "metadata": {},
     "output_type": "execute_result"
    }
   ],
   "source": [
    "tuple_logs.map(lambda x: (x[2], 1))\\\n",
    "    .reduceByKey(lambda x,y: x+y)\\\n",
    "    .map(lambda x: (x[1], x[0]))\\\n",
    "    .sortByKey(False)\\\n",
    "    .take(3)"
   ]
  },
  {
   "cell_type": "markdown",
   "id": "e4cb453b",
   "metadata": {},
   "source": [
    "## 5. Calculate the number of logs per type."
   ]
  },
  {
   "cell_type": "code",
   "execution_count": 10,
   "id": "88427f59",
   "metadata": {},
   "outputs": [
    {
     "data": {
      "text/plain": [
       "[(608309, 'ERROR'), (123596, 'SUCCESS')]"
      ]
     },
     "execution_count": 10,
     "metadata": {},
     "output_type": "execute_result"
    }
   ],
   "source": [
    "tuple_logs.map(lambda x: (x[3], 1))\\\n",
    "    .reduceByKey(lambda x,y: x+y)\\\n",
    "    .map(lambda x: (x[1], x[0]))\\\n",
    "    .sortByKey(False)\\\n",
    "    .collect()"
   ]
  },
  {
   "cell_type": "markdown",
   "id": "640bcd60",
   "metadata": {},
   "source": [
    "## 6. Show the date when the errors started and show the country."
   ]
  },
  {
   "cell_type": "code",
   "execution_count": 11,
   "id": "edec9258",
   "metadata": {},
   "outputs": [
    {
     "data": {
      "text/plain": [
       "[('2015-12-10T15:37:47', 'BD')]"
      ]
     },
     "execution_count": 11,
     "metadata": {},
     "output_type": "execute_result"
    }
   ],
   "source": [
    "tuple_logs.filter(lambda x: x[3] == 'ERROR')\\\n",
    "    .map(lambda x: (x[0], x[2]))\\\n",
    "    .sortByKey(True)\\\n",
    "    .take(1)"
   ]
  },
  {
   "cell_type": "markdown",
   "id": "e8563d46",
   "metadata": {},
   "source": [
    "## 7. Show the country with more errors and the amount detected."
   ]
  },
  {
   "cell_type": "code",
   "execution_count": 12,
   "id": "f01e9305",
   "metadata": {},
   "outputs": [
    {
     "data": {
      "text/plain": [
       "[(112430, 'CN')]"
      ]
     },
     "execution_count": 12,
     "metadata": {},
     "output_type": "execute_result"
    }
   ],
   "source": [
    "tuple_logs.filter(lambda x: x[3] == 'ERROR')\\\n",
    "    .map(lambda x: (x[2], 1))\\\n",
    "    .reduceByKey(lambda x,y: x+y)\\\n",
    "    .map(lambda x: (x[1], x[0]))\\\n",
    "    .sortByKey(False)\\\n",
    "    .take(1)"
   ]
  }
 ],
 "metadata": {
  "kernelspec": {
   "display_name": "Python 3",
   "language": "python",
   "name": "python3"
  },
  "language_info": {
   "codemirror_mode": {
    "name": "ipython",
    "version": 3
   },
   "file_extension": ".py",
   "mimetype": "text/x-python",
   "name": "python",
   "nbconvert_exporter": "python",
   "pygments_lexer": "ipython3",
   "version": "3.6.13"
  }
 },
 "nbformat": 4,
 "nbformat_minor": 5
}
