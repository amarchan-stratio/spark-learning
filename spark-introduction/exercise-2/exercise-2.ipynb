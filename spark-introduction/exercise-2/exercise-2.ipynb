{
 "cells": [
  {
   "cell_type": "markdown",
   "id": "9ce614e9",
   "metadata": {},
   "source": [
    "# Exercise 2"
   ]
  },
  {
   "cell_type": "code",
   "execution_count": 3,
   "id": "6faf3594",
   "metadata": {},
   "outputs": [],
   "source": [
    "%config Completer.use_jedi = False\n",
    "from pyspark.sql import SparkSession\n",
    "spark = SparkSession.builder.getOrCreate()"
   ]
  },
  {
   "cell_type": "code",
   "execution_count": 4,
   "id": "8c6594ae",
   "metadata": {},
   "outputs": [
    {
     "data": {
      "text/html": [
       "\n",
       "            <div>\n",
       "                <p><b>SparkSession - in-memory</b></p>\n",
       "                \n",
       "        <div>\n",
       "            <p><b>SparkContext</b></p>\n",
       "\n",
       "            <p><a href=\"http://192.168.68.122:4040\">Spark UI</a></p>\n",
       "\n",
       "            <dl>\n",
       "              <dt>Version</dt>\n",
       "                <dd><code>v2.4.5</code></dd>\n",
       "              <dt>Master</dt>\n",
       "                <dd><code>local[*]</code></dd>\n",
       "              <dt>AppName</dt>\n",
       "                <dd><code>pyspark-shell</code></dd>\n",
       "            </dl>\n",
       "        </div>\n",
       "        \n",
       "            </div>\n",
       "        "
      ],
      "text/plain": [
       "<pyspark.sql.session.SparkSession at 0x7feaa0c4ad30>"
      ]
     },
     "execution_count": 4,
     "metadata": {},
     "output_type": "execute_result"
    }
   ],
   "source": [
    "spark"
   ]
  },
  {
   "cell_type": "markdown",
   "id": "bf2e18ca",
   "metadata": {},
   "source": [
    "## 1. Read the file and convert to structured data.  "
   ]
  },
  {
   "cell_type": "markdown",
   "id": "78fa093f",
   "metadata": {},
   "source": [
    "### DataFrame mode"
   ]
  },
  {
   "cell_type": "code",
   "execution_count": 12,
   "id": "a42dfccd",
   "metadata": {
    "scrolled": true
   },
   "outputs": [
    {
     "name": "stdout",
     "output_type": "stream",
     "text": [
      "root\n",
      " |-- _id: string (nullable = true)\n",
      " |-- age: long (nullable = true)\n",
      " |-- email: string (nullable = true)\n",
      " |-- grade: double (nullable = true)\n",
      " |-- name: string (nullable = true)\n",
      " |-- surname: string (nullable = true)\n",
      "\n"
     ]
    }
   ],
   "source": [
    "df = spark.read.json('students.txt')\n",
    "df.cache()\n",
    "df.printSchema()"
   ]
  },
  {
   "cell_type": "markdown",
   "id": "65508638",
   "metadata": {},
   "source": [
    "### SQL mode"
   ]
  },
  {
   "cell_type": "code",
   "execution_count": 21,
   "id": "c9e003ef",
   "metadata": {},
   "outputs": [
    {
     "name": "stdout",
     "output_type": "stream",
     "text": [
      "root\n",
      " |-- _id: string (nullable = true)\n",
      " |-- age: long (nullable = true)\n",
      " |-- email: string (nullable = true)\n",
      " |-- grade: double (nullable = true)\n",
      " |-- name: string (nullable = true)\n",
      " |-- surname: string (nullable = true)\n",
      "\n"
     ]
    }
   ],
   "source": [
    "df.createOrReplaceTempView('students')\n",
    "spark.sql('select * from students limit 1').printSchema()"
   ]
  },
  {
   "cell_type": "markdown",
   "id": "37477f64",
   "metadata": {},
   "source": [
    "## 2. Obtain the top 5 students with more amount of grades.  "
   ]
  },
  {
   "cell_type": "markdown",
   "id": "7144a659",
   "metadata": {},
   "source": [
    "### DataFrame mode"
   ]
  },
  {
   "cell_type": "code",
   "execution_count": 43,
   "id": "a14c9999",
   "metadata": {},
   "outputs": [
    {
     "name": "stdout",
     "output_type": "stream",
     "text": [
      "+--------------------+---+--------------------+-----+-------+----------------+\n",
      "|                 _id|age|               email|grade|   name|         surname|\n",
      "+--------------------+---+--------------------+-----+-------+----------------+\n",
      "|9e27157e-062b-47f...| 22|LaiayVictoria@gma...| 10.0|   Laia|   Segovia Lopez|\n",
      "|1b36d010-64c0-4aa...| 23|Elena1993@outlook...| 9.99|  Elena| Sanchez Gisbert|\n",
      "|afae424a-3c2b-43f...| 25|Gomez.Segarra@hot...| 9.99|   Sara|   Gomez Segarra|\n",
      "|cc8f7297-5920-431...| 25|David.Pascual@yah...| 9.98|  David|Pascual Gonzalez|\n",
      "|8a4da0df-2988-4f9...| 19|Esteban1997@gmail...| 9.98|Esteban|   Comas Segovia|\n",
      "+--------------------+---+--------------------+-----+-------+----------------+\n",
      "\n"
     ]
    }
   ],
   "source": [
    "from pyspark.sql.functions import *\n",
    "df.select('*').orderBy(desc('grade')).limit(5).show()"
   ]
  },
  {
   "cell_type": "markdown",
   "id": "af987e4f",
   "metadata": {},
   "source": [
    "### SQL mode"
   ]
  },
  {
   "cell_type": "code",
   "execution_count": 30,
   "id": "0d24f6a5",
   "metadata": {
    "scrolled": true
   },
   "outputs": [
    {
     "name": "stdout",
     "output_type": "stream",
     "text": [
      "+--------------------+---+--------------------+-----+-------+----------------+\n",
      "|                 _id|age|               email|grade|   name|         surname|\n",
      "+--------------------+---+--------------------+-----+-------+----------------+\n",
      "|9e27157e-062b-47f...| 22|LaiayVictoria@gma...| 10.0|   Laia|   Segovia Lopez|\n",
      "|1b36d010-64c0-4aa...| 23|Elena1993@outlook...| 9.99|  Elena| Sanchez Gisbert|\n",
      "|afae424a-3c2b-43f...| 25|Gomez.Segarra@hot...| 9.99|   Sara|   Gomez Segarra|\n",
      "|cc8f7297-5920-431...| 25|David.Pascual@yah...| 9.98|  David|Pascual Gonzalez|\n",
      "|8a4da0df-2988-4f9...| 19|Esteban1997@gmail...| 9.98|Esteban|   Comas Segovia|\n",
      "+--------------------+---+--------------------+-----+-------+----------------+\n",
      "\n"
     ]
    }
   ],
   "source": [
    "spark.sql('select * from students order by grade desc limit 5').show()"
   ]
  },
  {
   "cell_type": "markdown",
   "id": "a4981178",
   "metadata": {},
   "source": [
    "## 3. Calculate max and mean of grades and obtain the best 5 students of both groups.  "
   ]
  },
  {
   "cell_type": "markdown",
   "id": "f94fb492",
   "metadata": {},
   "source": [
    "### DataFrame mode"
   ]
  },
  {
   "cell_type": "markdown",
   "id": "daf096c7",
   "metadata": {},
   "source": [
    "#### Max and mean of grades"
   ]
  },
  {
   "cell_type": "code",
   "execution_count": 65,
   "id": "f74873e5",
   "metadata": {},
   "outputs": [
    {
     "name": "stdout",
     "output_type": "stream",
     "text": [
      "+---------+-----------------+\n",
      "|max_grade|      mean_grades|\n",
      "+---------+-----------------+\n",
      "|     10.0|7.954802000000002|\n",
      "+---------+-----------------+\n",
      "\n"
     ]
    }
   ],
   "source": [
    "df.select(max('grade').alias('max_grade'), mean('grade').alias('mean_grades')).show()"
   ]
  },
  {
   "cell_type": "code",
   "execution_count": 74,
   "id": "3670ee2a",
   "metadata": {},
   "outputs": [
    {
     "name": "stdout",
     "output_type": "stream",
     "text": [
      "+--------+----------------+----------+\n",
      "|    name|         surname|mean_grade|\n",
      "+--------+----------------+----------+\n",
      "|    Laia|   Segovia Lopez|      10.0|\n",
      "|   Elena| Sanchez Gisbert|      9.99|\n",
      "| Esteban|   Comas Segovia|      9.98|\n",
      "|   David|Pascual Gonzalez|      9.98|\n",
      "|Fernando| Bermejo Gisbert|      9.98|\n",
      "+--------+----------------+----------+\n",
      "\n"
     ]
    }
   ],
   "source": [
    "df.groupBy('name', 'surname')\\\n",
    "    .agg(mean('grade').alias('mean_grade'))\\\n",
    "    .orderBy(desc('mean_grade'))\\\n",
    "    .limit(5).show()"
   ]
  },
  {
   "cell_type": "markdown",
   "id": "3f5a8d65",
   "metadata": {},
   "source": [
    "### SQL mode"
   ]
  },
  {
   "cell_type": "markdown",
   "id": "49c75d16",
   "metadata": {},
   "source": [
    "#### Max and mean of grades"
   ]
  },
  {
   "cell_type": "code",
   "execution_count": 46,
   "id": "2a68cb8e",
   "metadata": {
    "scrolled": false
   },
   "outputs": [
    {
     "name": "stdout",
     "output_type": "stream",
     "text": [
      "+---------+-----------------+\n",
      "|max_grade|      mean_grades|\n",
      "+---------+-----------------+\n",
      "|     10.0|7.954802000000002|\n",
      "+---------+-----------------+\n",
      "\n"
     ]
    }
   ],
   "source": [
    "spark.sql('select max(grade) as max_grade, mean(grade) as mean_grades from students').show()"
   ]
  },
  {
   "cell_type": "markdown",
   "id": "ee57a635",
   "metadata": {},
   "source": [
    "#### Top 5 students with best mean grade"
   ]
  },
  {
   "cell_type": "code",
   "execution_count": 60,
   "id": "18762c47",
   "metadata": {
    "scrolled": false
   },
   "outputs": [
    {
     "name": "stdout",
     "output_type": "stream",
     "text": [
      "+--------+----------------+-----------+\n",
      "|    name|         surname|mean_grades|\n",
      "+--------+----------------+-----------+\n",
      "|    Laia|   Segovia Lopez|       10.0|\n",
      "|   Elena| Sanchez Gisbert|       9.99|\n",
      "| Esteban|   Comas Segovia|       9.98|\n",
      "|   David|Pascual Gonzalez|       9.98|\n",
      "|Fernando| Bermejo Gisbert|       9.98|\n",
      "+--------+----------------+-----------+\n",
      "\n"
     ]
    }
   ],
   "source": [
    "spark.sql(\"\"\"select \n",
    "                name, surname, mean(grade) as mean_grades \n",
    "            from \n",
    "                students \n",
    "            group by name, surname \n",
    "            order by mean_grades desc limit 5\"\"\").show()"
   ]
  },
  {
   "cell_type": "markdown",
   "id": "dd2a65d8",
   "metadata": {},
   "source": [
    "## 4. Filter students older than 20 years old. "
   ]
  },
  {
   "cell_type": "markdown",
   "id": "ac7e4595",
   "metadata": {},
   "source": [
    "### DataFrame mode"
   ]
  },
  {
   "cell_type": "code",
   "execution_count": 71,
   "id": "a9a287b4",
   "metadata": {},
   "outputs": [
    {
     "name": "stdout",
     "output_type": "stream",
     "text": [
      "+--------------------+---+--------------------+-----+--------+----------------+\n",
      "|                 _id|age|               email|grade|    name|         surname|\n",
      "+--------------------+---+--------------------+-----+--------+----------------+\n",
      "|8953f082-72be-45a...| 21|DavidyBerta@gmail...| 7.81|   David|Gonzalez Sanchez|\n",
      "|0e64a7e9-0778-4b7...| 21|DavidyHugo@hotmai...| 7.39|   David| Gonzalez Merino|\n",
      "|24bff53f-5551-48c...| 21|  Jose1995@gmail.com| 7.66|    Jose|   Bermejo Lopez|\n",
      "|fbdf66dc-49da-467...| 21| IkerySara@gmail.com| 7.77|    Iker|   Seco Coronado|\n",
      "|3d774c8c-4ddf-444...| 21|Tomas1995@hotmail...| 8.73|   Tomas|    Grande Comas|\n",
      "|971deb27-156d-4cd...| 21|Aznar.Pascual@idx...|  8.6|Santiago|   Aznar Pascual|\n",
      "|1a2f1928-9060-4c9...| 21|JoseyJuana@gmail.com|  7.2|    Jose|       Tous Tous|\n",
      "|bf9d3e1f-ebdc-486...| 21|Agustin1995@hotma...| 9.62| Agustin|  Sanchez Cuesta|\n",
      "|3dfb89d9-5856-482...| 21|Sara1995@hotmail.com| 7.21|    Sara|     Rajoy Agudo|\n",
      "|57f94074-a49a-4e6...| 21|Sanchez.Crespo@ou...|  7.8|    Juan|  Sanchez Crespo|\n",
      "|5871da29-955c-41a...| 21|Soledad.Gomez@gma...| 7.19| Soledad|   Gomez Bermejo|\n",
      "|d2d515de-cbbb-428...| 21|David1995@hotmail...| 6.91|   David|  Cuesta Pedrosa|\n",
      "|6da97cd8-8675-4b4...| 21|Pastor.Martinez@o...| 7.57|   Pablo| Pastor Martinez|\n",
      "|deab85a4-568d-457...| 21|Nicolas1995@yahoo.es| 9.36| Nicolas|  Torres Barcino|\n",
      "|52568f33-b43f-48a...| 21|Diego.Peinado@gma...| 8.91|   Diego|  Peinado Garcia|\n",
      "|ecea3dc3-feb3-490...| 21|OliverySantiago@a...| 8.13|  Oliver|Gonzalez Antunez|\n",
      "|79137e68-6782-4a0...| 21|Victoria.Santande...| 8.23|Victoria|  Santander Peña|\n",
      "|677a4c6e-c584-47f...| 21|Abascal.Sanchez@i...| 8.12|   Juana| Abascal Sanchez|\n",
      "|08e4a6c9-ed8a-4ab...| 21|Jose.Domingo@gmai...| 8.65|    Jose|   Domingo Agudo|\n",
      "|3d57f40e-fdb4-442...| 21|Enrique.Garcia@ho...| 8.84| Enrique|   Garcia Blanes|\n",
      "+--------------------+---+--------------------+-----+--------+----------------+\n",
      "only showing top 20 rows\n",
      "\n"
     ]
    }
   ],
   "source": [
    "df.filter('age > 20').orderBy('age').show()"
   ]
  },
  {
   "cell_type": "markdown",
   "id": "cde42c0c",
   "metadata": {},
   "source": [
    "### SQL mode"
   ]
  },
  {
   "cell_type": "code",
   "execution_count": 68,
   "id": "7b1b4a31",
   "metadata": {
    "scrolled": false
   },
   "outputs": [
    {
     "name": "stdout",
     "output_type": "stream",
     "text": [
      "+--------------------+---+--------------------+-----+--------+----------------+\n",
      "|                 _id|age|               email|grade|    name|         surname|\n",
      "+--------------------+---+--------------------+-----+--------+----------------+\n",
      "|8953f082-72be-45a...| 21|DavidyBerta@gmail...| 7.81|   David|Gonzalez Sanchez|\n",
      "|0e64a7e9-0778-4b7...| 21|DavidyHugo@hotmai...| 7.39|   David| Gonzalez Merino|\n",
      "|24bff53f-5551-48c...| 21|  Jose1995@gmail.com| 7.66|    Jose|   Bermejo Lopez|\n",
      "|fbdf66dc-49da-467...| 21| IkerySara@gmail.com| 7.77|    Iker|   Seco Coronado|\n",
      "|3d774c8c-4ddf-444...| 21|Tomas1995@hotmail...| 8.73|   Tomas|    Grande Comas|\n",
      "|971deb27-156d-4cd...| 21|Aznar.Pascual@idx...|  8.6|Santiago|   Aznar Pascual|\n",
      "|1a2f1928-9060-4c9...| 21|JoseyJuana@gmail.com|  7.2|    Jose|       Tous Tous|\n",
      "|bf9d3e1f-ebdc-486...| 21|Agustin1995@hotma...| 9.62| Agustin|  Sanchez Cuesta|\n",
      "|3dfb89d9-5856-482...| 21|Sara1995@hotmail.com| 7.21|    Sara|     Rajoy Agudo|\n",
      "|57f94074-a49a-4e6...| 21|Sanchez.Crespo@ou...|  7.8|    Juan|  Sanchez Crespo|\n",
      "|5871da29-955c-41a...| 21|Soledad.Gomez@gma...| 7.19| Soledad|   Gomez Bermejo|\n",
      "|d2d515de-cbbb-428...| 21|David1995@hotmail...| 6.91|   David|  Cuesta Pedrosa|\n",
      "|6da97cd8-8675-4b4...| 21|Pastor.Martinez@o...| 7.57|   Pablo| Pastor Martinez|\n",
      "|deab85a4-568d-457...| 21|Nicolas1995@yahoo.es| 9.36| Nicolas|  Torres Barcino|\n",
      "|52568f33-b43f-48a...| 21|Diego.Peinado@gma...| 8.91|   Diego|  Peinado Garcia|\n",
      "|ecea3dc3-feb3-490...| 21|OliverySantiago@a...| 8.13|  Oliver|Gonzalez Antunez|\n",
      "|79137e68-6782-4a0...| 21|Victoria.Santande...| 8.23|Victoria|  Santander Peña|\n",
      "|677a4c6e-c584-47f...| 21|Abascal.Sanchez@i...| 8.12|   Juana| Abascal Sanchez|\n",
      "|08e4a6c9-ed8a-4ab...| 21|Jose.Domingo@gmai...| 8.65|    Jose|   Domingo Agudo|\n",
      "|3d57f40e-fdb4-442...| 21|Enrique.Garcia@ho...| 8.84| Enrique|   Garcia Blanes|\n",
      "+--------------------+---+--------------------+-----+--------+----------------+\n",
      "only showing top 20 rows\n",
      "\n"
     ]
    }
   ],
   "source": [
    "spark.sql(\"\"\"select * from students where age > 20 order by age\"\"\").show()"
   ]
  },
  {
   "cell_type": "markdown",
   "id": "645952ce",
   "metadata": {},
   "source": [
    "## 5. Calculate the average of grades for each students year."
   ]
  },
  {
   "cell_type": "markdown",
   "id": "aaf542d3",
   "metadata": {},
   "source": [
    "### DataFrame mode"
   ]
  },
  {
   "cell_type": "code",
   "execution_count": 78,
   "id": "bbe5853a",
   "metadata": {},
   "outputs": [
    {
     "name": "stdout",
     "output_type": "stream",
     "text": [
      "+---+------------------+\n",
      "|age|        mean_grade|\n",
      "+---+------------------+\n",
      "| 18| 7.935931528662416|\n",
      "| 19|7.9874188034187945|\n",
      "| 20| 7.920192791282483|\n",
      "| 21|7.9860449050086375|\n",
      "| 22| 7.916797804208606|\n",
      "| 23|7.9727236971484805|\n",
      "| 24| 7.999281364190009|\n",
      "| 25|7.9337354651162775|\n",
      "| 26| 7.903791102514502|\n",
      "| 27|  7.92304878048781|\n",
      "| 28| 7.921007194244603|\n",
      "| 29| 8.041525423728814|\n",
      "| 30| 8.114893617021275|\n",
      "| 31| 8.014242424242425|\n",
      "| 32|             8.091|\n",
      "| 33| 8.180588235294119|\n",
      "| 34|7.9399999999999995|\n",
      "| 35|             7.698|\n",
      "| 36|              7.68|\n",
      "| 37|              8.11|\n",
      "+---+------------------+\n",
      "\n"
     ]
    }
   ],
   "source": [
    "df.groupBy('age').agg(mean('grade').alias('mean_grade')).orderBy('age').show()"
   ]
  },
  {
   "cell_type": "markdown",
   "id": "f245e352",
   "metadata": {},
   "source": [
    "### SQL mode"
   ]
  },
  {
   "cell_type": "code",
   "execution_count": 76,
   "id": "eb9d23b1",
   "metadata": {
    "scrolled": false
   },
   "outputs": [
    {
     "name": "stdout",
     "output_type": "stream",
     "text": [
      "+---+------------------+\n",
      "|age|        mean_grade|\n",
      "+---+------------------+\n",
      "| 18| 7.935931528662416|\n",
      "| 19|7.9874188034187945|\n",
      "| 20| 7.920192791282483|\n",
      "| 21|7.9860449050086375|\n",
      "| 22| 7.916797804208606|\n",
      "| 23|7.9727236971484805|\n",
      "| 24| 7.999281364190009|\n",
      "| 25|7.9337354651162775|\n",
      "| 26| 7.903791102514502|\n",
      "| 27|  7.92304878048781|\n",
      "| 28| 7.921007194244603|\n",
      "| 29| 8.041525423728814|\n",
      "| 30| 8.114893617021275|\n",
      "| 31| 8.014242424242425|\n",
      "| 32|             8.091|\n",
      "| 33| 8.180588235294119|\n",
      "| 34|7.9399999999999995|\n",
      "| 35|             7.698|\n",
      "| 36|              7.68|\n",
      "| 37|              8.11|\n",
      "+---+------------------+\n",
      "\n"
     ]
    }
   ],
   "source": [
    "spark.sql(\"\"\"\n",
    "    select age, mean(grade) as mean_grade\n",
    "    from students\n",
    "    group by age\n",
    "    order by age\n",
    "\"\"\").show()"
   ]
  },
  {
   "cell_type": "markdown",
   "id": "94eb23f0",
   "metadata": {},
   "source": [
    "## 6. Add a column named excellent which condition is its student grade > 9.5. "
   ]
  },
  {
   "cell_type": "markdown",
   "id": "aa942852",
   "metadata": {},
   "source": [
    "### DataFrame mode"
   ]
  },
  {
   "cell_type": "code",
   "execution_count": 90,
   "id": "eb0584d8",
   "metadata": {},
   "outputs": [
    {
     "name": "stdout",
     "output_type": "stream",
     "text": [
      "+--------------------+---+--------------------+-----+--------+-----------------+---------+\n",
      "|                 _id|age|               email|grade|    name|          surname|excellent|\n",
      "+--------------------+---+--------------------+-----+--------+-----------------+---------+\n",
      "|33a624e7-e6f1-40b...| 23|Valeria.Sebastian...| 7.56| Valeria| Sebastian Garcia|    TONTO|\n",
      "|2cd47675-43f3-415...| 23|Sanchez.Abascal@g...| 8.16|    Emma|  Sanchez Abascal|    TONTO|\n",
      "|594ea4e7-75e3-456...| 20|Sarabia.Lopez@gma...| 8.22| Agustin|    Sarabia Lopez|    TONTO|\n",
      "|3b521244-d2d4-40b...| 25|MartinaySebastian...| 7.67| Martina|Corominas Sarabia|    TONTO|\n",
      "|e6f52130-362f-4a5...| 19|DavidyValeria@gma...| 7.45|   David|   Miranda Grande|    TONTO|\n",
      "|cee04454-f6ea-48b...| 20|Lopez.Bernal@outl...| 7.35|    Laia|     Lopez Bernal|    TONTO|\n",
      "|6e5b75cd-0d5f-41f...| 22|MarcosySantiago@h...|  6.8|  Marcos|     Garcia Aznar|    TONTO|\n",
      "|47435195-80b1-473...| 18|Judith.Garcia@gma...|  9.1|  Judith|      Garcia Cruz|    TONTO|\n",
      "|fbdf66dc-49da-467...| 21| IkerySara@gmail.com| 7.77|    Iker|    Seco Coronado|    TONTO|\n",
      "|0df69140-84ac-47d...| 22|Lopez.Sastre@hotm...|  7.9|   Pablo|     Lopez Sastre|    TONTO|\n",
      "|dbd1026a-b18f-450...| 19|Marcos1997@gmail.com|  7.8|  Marcos|  Sarabia Gisbert|    TONTO|\n",
      "|ee2568cb-93f8-44c...| 24|  Oriol1992@yahoo.es| 7.39|   Oriol|   Blanes Miranda|    TONTO|\n",
      "|2f5239a1-05c0-454...| 18|Marcos.Cuenca@yah...|  9.8|  Marcos|     Cuenca Lopez|    GENIO|\n",
      "|40191301-f2b6-4aa...| 23|Sandra.Sastre@gma...|  8.3|  Sandra| Sastre Corominas|    TONTO|\n",
      "|eac69540-3a1d-4a3...| 22|LuciayTomas@outlo...| 8.69|   Lucia|      Agudo Lopez|    TONTO|\n",
      "|1f58ebe4-9fc5-429...| 29|MarcosyMario@gmai...|  8.8|  Marcos|   Garcia Sanchez|    TONTO|\n",
      "|54d4a8d3-4cc1-4dc...| 24|EmmayJose@hotmail.es| 9.25|    Emma|     Cruz Antunez|    TONTO|\n",
      "|33f54c17-2a1b-421...| 21|Santander.Pascual...| 5.79|   Pedro|Santander Pascual|    TONTO|\n",
      "|971deb27-156d-4cd...| 21|Aznar.Pascual@idx...|  8.6|Santiago|    Aznar Pascual|    TONTO|\n",
      "|cb1244e2-63cf-4a7...| 20|Juan.Parada@gmail...|  8.3|    Juan|   Parada Pascual|    TONTO|\n",
      "+--------------------+---+--------------------+-----+--------+-----------------+---------+\n",
      "only showing top 20 rows\n",
      "\n"
     ]
    }
   ],
   "source": [
    "df.withColumn('excellent', when(col('grade') > 9.5, 'GENIO').otherwise('TONTO')).show()"
   ]
  },
  {
   "cell_type": "markdown",
   "id": "6ebcf04b",
   "metadata": {},
   "source": [
    "### SQL mode"
   ]
  },
  {
   "cell_type": "code",
   "execution_count": 87,
   "id": "5fe08143",
   "metadata": {},
   "outputs": [
    {
     "name": "stdout",
     "output_type": "stream",
     "text": [
      "+--------------------+---+--------------------+-----+--------+-----------------+---------+\n",
      "|                 _id|age|               email|grade|    name|          surname|excellent|\n",
      "+--------------------+---+--------------------+-----+--------+-----------------+---------+\n",
      "|33a624e7-e6f1-40b...| 23|Valeria.Sebastian...| 7.56| Valeria| Sebastian Garcia|    TONTO|\n",
      "|2cd47675-43f3-415...| 23|Sanchez.Abascal@g...| 8.16|    Emma|  Sanchez Abascal|    TONTO|\n",
      "|594ea4e7-75e3-456...| 20|Sarabia.Lopez@gma...| 8.22| Agustin|    Sarabia Lopez|    TONTO|\n",
      "|3b521244-d2d4-40b...| 25|MartinaySebastian...| 7.67| Martina|Corominas Sarabia|    TONTO|\n",
      "|e6f52130-362f-4a5...| 19|DavidyValeria@gma...| 7.45|   David|   Miranda Grande|    TONTO|\n",
      "|cee04454-f6ea-48b...| 20|Lopez.Bernal@outl...| 7.35|    Laia|     Lopez Bernal|    TONTO|\n",
      "|6e5b75cd-0d5f-41f...| 22|MarcosySantiago@h...|  6.8|  Marcos|     Garcia Aznar|    TONTO|\n",
      "|47435195-80b1-473...| 18|Judith.Garcia@gma...|  9.1|  Judith|      Garcia Cruz|    TONTO|\n",
      "|fbdf66dc-49da-467...| 21| IkerySara@gmail.com| 7.77|    Iker|    Seco Coronado|    TONTO|\n",
      "|0df69140-84ac-47d...| 22|Lopez.Sastre@hotm...|  7.9|   Pablo|     Lopez Sastre|    TONTO|\n",
      "|dbd1026a-b18f-450...| 19|Marcos1997@gmail.com|  7.8|  Marcos|  Sarabia Gisbert|    TONTO|\n",
      "|ee2568cb-93f8-44c...| 24|  Oriol1992@yahoo.es| 7.39|   Oriol|   Blanes Miranda|    TONTO|\n",
      "|2f5239a1-05c0-454...| 18|Marcos.Cuenca@yah...|  9.8|  Marcos|     Cuenca Lopez|    GENIO|\n",
      "|40191301-f2b6-4aa...| 23|Sandra.Sastre@gma...|  8.3|  Sandra| Sastre Corominas|    TONTO|\n",
      "|eac69540-3a1d-4a3...| 22|LuciayTomas@outlo...| 8.69|   Lucia|      Agudo Lopez|    TONTO|\n",
      "|1f58ebe4-9fc5-429...| 29|MarcosyMario@gmai...|  8.8|  Marcos|   Garcia Sanchez|    TONTO|\n",
      "|54d4a8d3-4cc1-4dc...| 24|EmmayJose@hotmail.es| 9.25|    Emma|     Cruz Antunez|    TONTO|\n",
      "|33f54c17-2a1b-421...| 21|Santander.Pascual...| 5.79|   Pedro|Santander Pascual|    TONTO|\n",
      "|971deb27-156d-4cd...| 21|Aznar.Pascual@idx...|  8.6|Santiago|    Aznar Pascual|    TONTO|\n",
      "|cb1244e2-63cf-4a7...| 20|Juan.Parada@gmail...|  8.3|    Juan|   Parada Pascual|    TONTO|\n",
      "+--------------------+---+--------------------+-----+--------+-----------------+---------+\n",
      "only showing top 20 rows\n",
      "\n"
     ]
    }
   ],
   "source": [
    "spark.sql(\"\"\"\n",
    "    select *,\n",
    "        case \n",
    "            when grade > 9.5 then 'GENIO'\n",
    "            else 'TONTO'\n",
    "        end as excellent\n",
    "    from students\n",
    "\"\"\").show()"
   ]
  }
 ],
 "metadata": {
  "kernelspec": {
   "display_name": "Python 3",
   "language": "python",
   "name": "python3"
  },
  "language_info": {
   "codemirror_mode": {
    "name": "ipython",
    "version": 3
   },
   "file_extension": ".py",
   "mimetype": "text/x-python",
   "name": "python",
   "nbconvert_exporter": "python",
   "pygments_lexer": "ipython3",
   "version": "3.6.13"
  }
 },
 "nbformat": 4,
 "nbformat_minor": 5
}
